{
 "cells": [
  {
   "cell_type": "code",
   "execution_count": null,
   "id": "8e9d6cfe",
   "metadata": {},
   "outputs": [],
   "source": [
    "import whisper"
   ]
  },
  {
   "cell_type": "markdown",
   "id": "4b1539ef",
   "metadata": {},
   "source": [
    "## load the model"
   ]
  },
  {
   "cell_type": "code",
   "execution_count": null,
   "id": "81330512",
   "metadata": {},
   "outputs": [],
   "source": [
    "model = whisper.load_model(\"large-v3\")"
   ]
  },
  {
   "cell_type": "markdown",
   "id": "e48b0b72",
   "metadata": {},
   "source": [
    "## audio path"
   ]
  },
  {
   "cell_type": "code",
   "execution_count": null,
   "id": "42ee0864",
   "metadata": {},
   "outputs": [],
   "source": [
    "audio_path = input(\"Enter the path to your audio file (e.g., 'audio.wav'): \").strip()"
   ]
  },
  {
   "cell_type": "markdown",
   "id": "c4aae507",
   "metadata": {},
   "source": [
    "## transcribing"
   ]
  },
  {
   "cell_type": "code",
   "execution_count": null,
   "id": "6d1ca0de",
   "metadata": {},
   "outputs": [],
   "source": [
    "print(\"\\nTranscribing audio using Whisper large-v3...\\n\")\n",
    "result = model.transcribe(audio_path)"
   ]
  },
  {
   "cell_type": "code",
   "execution_count": null,
   "id": "76186449",
   "metadata": {},
   "outputs": [],
   "source": [
    "print(result)"
   ]
  }
 ],
 "metadata": {
  "kernelspec": {
   "display_name": "Streamlingo",
   "language": "python",
   "name": "python3"
  },
  "language_info": {
   "codemirror_mode": {
    "name": "ipython",
    "version": 3
   },
   "file_extension": ".py",
   "mimetype": "text/x-python",
   "name": "python",
   "nbconvert_exporter": "python",
   "pygments_lexer": "ipython3",
   "version": "3.11.12"
  }
 },
 "nbformat": 4,
 "nbformat_minor": 5
}
